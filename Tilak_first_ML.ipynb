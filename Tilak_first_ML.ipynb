{
  "nbformat": 4,
  "nbformat_minor": 0,
  "metadata": {
    "colab": {
      "name": "Tilak_first_ML.ipynb",
      "provenance": [],
      "collapsed_sections": [],
      "authorship_tag": "ABX9TyPynuPbRqRbUSK+PqY4qz0S",
      "include_colab_link": true
    },
    "kernelspec": {
      "name": "python3",
      "display_name": "Python 3"
    },
    "language_info": {
      "name": "python"
    }
  },
  "cells": [
    {
      "cell_type": "markdown",
      "metadata": {
        "id": "view-in-github",
        "colab_type": "text"
      },
      "source": [
        "<a href=\"https://colab.research.google.com/github/Tilakraj0308/First_ML-Boston_House_Prices/blob/main/Tilak_first_ML.ipynb\" target=\"_parent\"><img src=\"https://colab.research.google.com/assets/colab-badge.svg\" alt=\"Open In Colab\"/></a>"
      ]
    },
    {
      "cell_type": "code",
      "execution_count": null,
      "metadata": {
        "id": "B__scrE-H8cl"
      },
      "outputs": [],
      "source": [
        "#Importation\n",
        "from sklearn import datasets\n",
        "from sklearn.model_selection import train_test_split\n",
        "from sklearn.preprocessing import scale\n",
        "from sklearn import linear_model\n",
        "from matplotlib import pyplot as plt"
      ]
    },
    {
      "cell_type": "code",
      "source": [
        "#Loading data\n",
        "boston = datasets.load_boston()"
      ],
      "metadata": {
        "id": "W3m04tBkIIGZ"
      },
      "execution_count": null,
      "outputs": []
    },
    {
      "cell_type": "code",
      "source": [
        "#Getting X(Features) and y(targets)\n",
        "X = boston.data\n",
        "y = boston.target"
      ],
      "metadata": {
        "id": "EAz4yrARILsT"
      },
      "execution_count": null,
      "outputs": []
    },
    {
      "cell_type": "code",
      "source": [
        "#Checking no of features and examples\n",
        "print(X.shape)\n",
        "print(y.shape)"
      ],
      "metadata": {
        "colab": {
          "base_uri": "https://localhost:8080/"
        },
        "id": "tYlowtGnIZWW",
        "outputId": "21639c31-830a-458c-dc5f-8baf30ff4d66"
      },
      "execution_count": null,
      "outputs": [
        {
          "output_type": "stream",
          "name": "stdout",
          "text": [
            "(506, 13)\n",
            "(506,)\n"
          ]
        }
      ]
    },
    {
      "cell_type": "code",
      "source": [
        "#Plotting data\n",
        "plt.scatter(X.T[0] , y)"
      ],
      "metadata": {
        "colab": {
          "base_uri": "https://localhost:8080/",
          "height": 282
        },
        "id": "bI-kMkpZKQH5",
        "outputId": "fb9665ad-0b7e-426d-94be-89afb18ba8d6"
      },
      "execution_count": null,
      "outputs": [
        {
          "output_type": "execute_result",
          "data": {
            "text/plain": [
              "<matplotlib.collections.PathCollection at 0x7f1a6bdef410>"
            ]
          },
          "metadata": {},
          "execution_count": 17
        },
        {
          "output_type": "display_data",
          "data": {
            "text/plain": [
              "<Figure size 432x288 with 1 Axes>"
            ],
            "image/png": "[encoded data removed]"
          },
          "metadata": {
            "needs_background": "light"
          }
        }
      ]
    },
    {
      "cell_type": "code",
      "source": [
        "#Splitting dataset into training and test datasets\n",
        "X_train, X_test, y_train, y_test = train_test_split(X,y,test_size = 0.2)\n",
        "print(X_train.shape)\n",
        "print(X_test.shape)\n",
        "print(y_train.shape)\n",
        "print(y_test.shape)"
      ],
      "metadata": {
        "colab": {
          "base_uri": "https://localhost:8080/"
        },
        "id": "uXGpEBNnId0J",
        "outputId": "bbc2ed04-6b3f-4235-de97-34f5eed5b892"
      },
      "execution_count": null,
      "outputs": [
        {
          "output_type": "stream",
          "name": "stdout",
          "text": [
            "(404, 13)\n",
            "(102, 13)\n",
            "(404,)\n",
            "(102,)\n"
          ]
        }
      ]
    },
    {
      "cell_type": "code",
      "source": [
        "print(X_train)"
      ],
      "metadata": {
        "colab": {
          "base_uri": "https://localhost:8080/"
        },
        "id": "bSXY3yHTI-BO",
        "outputId": "f123a7b3-2e9e-4e15-855d-c5cdf8894b41"
      },
      "execution_count": null,
      "outputs": [
        {
          "output_type": "stream",
          "name": "stdout",
          "text": [
            "[[6.90500e-02 0.00000e+00 2.18000e+00 ... 1.87000e+01 3.96900e+02\n",
            "  5.33000e+00]\n",
            " [1.26500e-01 2.50000e+01 5.13000e+00 ... 1.97000e+01 3.95580e+02\n",
            "  9.50000e+00]\n",
            " [3.76619e+01 0.00000e+00 1.81000e+01 ... 2.02000e+01 1.88200e+01\n",
            "  1.45200e+01]\n",
            " ...\n",
            " [1.50980e-01 0.00000e+00 1.00100e+01 ... 1.78000e+01 3.94510e+02\n",
            "  1.03000e+01]\n",
            " [9.18702e+00 0.00000e+00 1.81000e+01 ... 2.02000e+01 3.96900e+02\n",
            "  2.36000e+01]\n",
            " [1.52880e+01 0.00000e+00 1.81000e+01 ... 2.02000e+01 3.63020e+02\n",
            "  2.32400e+01]]\n"
          ]
        }
      ]
    },
    {
      "cell_type": "code",
      "source": [
        "#scaling\n",
        "X_train = scale(X_train)\n",
        "X_test = scale(X_test)"
      ],
      "metadata": {
        "id": "TtFn1ArrJNI8"
      },
      "execution_count": null,
      "outputs": []
    },
    {
      "cell_type": "code",
      "source": [
        "#Checking scaling\n",
        "print(X_train)"
      ],
      "metadata": {
        "colab": {
          "base_uri": "https://localhost:8080/"
        },
        "id": "5FSonlFhKN6z",
        "outputId": "aa6f5828-cbdd-4ccc-bf30-6078a68ebf95"
      },
      "execution_count": null,
      "outputs": [
        {
          "output_type": "stream",
          "name": "stdout",
          "text": [
            "[[-0.40643134 -0.47340099 -1.32085051 ...  0.09563348  0.44157985\n",
            "  -1.0285283 ]\n",
            " [-0.40015949  0.62677158 -0.8912265  ...  0.55723357  0.426995\n",
            "  -0.45027332]\n",
            " [ 3.6976022  -0.47340099  0.9976628  ...  0.78803362 -3.73587522\n",
            "   0.24585139]\n",
            " ...\n",
            " [-0.39748699 -0.47340099 -0.18052644 ... -0.3198066   0.41517243\n",
            "  -0.33933711]\n",
            " [ 0.58898281 -0.47340099  0.9976628  ...  0.78803362  0.44157985\n",
            "   1.50497735]\n",
            " [ 1.25503038 -0.47340099  0.9976628  ...  0.78803362  0.06723532\n",
            "   1.45505605]]\n"
          ]
        }
      ]
    },
    {
      "cell_type": "code",
      "source": [
        "#Plotting again\n",
        "plt.scatter(X_train.T[0] , y_train)"
      ],
      "metadata": {
        "colab": {
          "base_uri": "https://localhost:8080/",
          "height": 282
        },
        "id": "G31fjLpbKrrp",
        "outputId": "d49f211a-753b-431b-f444-1e8457d6e351"
      },
      "execution_count": null,
      "outputs": [
        {
          "output_type": "execute_result",
          "data": {
            "text/plain": [
              "<matplotlib.collections.PathCollection at 0x7f1a6b527510>"
            ]
          },
          "metadata": {},
          "execution_count": 19
        },
        {
          "output_type": "display_data",
          "data": {
            "text/plain": [
              "<Figure size 432x288 with 1 Axes>"
            ],
            "image/png": "[encoded data removed]"
          },
          "metadata": {
            "needs_background": "light"
          }
        }
      ]
    },
    {
      "cell_type": "code",
      "source": [
        "#model\n",
        "l_reg = linear_model.LinearRegression()"
      ],
      "metadata": {
        "id": "QrORxjWZLNxF"
      },
      "execution_count": null,
      "outputs": []
    },
    {
      "cell_type": "code",
      "source": [
        "#train\n",
        "model = l_reg.fit(X_train , y_train)"
      ],
      "metadata": {
        "id": "MCdd5viIMGjK"
      },
      "execution_count": null,
      "outputs": []
    },
    {
      "cell_type": "code",
      "source": [
        "#predictions\n",
        "pred = model.predict(X_test)\n",
        "print(\"Real: \" , y_test[: 10])\n",
        "print(\"Predictions: \" , pred[: 10])"
      ],
      "metadata": {
        "colab": {
          "base_uri": "https://localhost:8080/"
        },
        "id": "WhK6OiEzMPKe",
        "outputId": "b167556b-c0f2-46e3-9c1b-ceeb3854c680"
      },
      "execution_count": null,
      "outputs": [
        {
          "output_type": "stream",
          "name": "stdout",
          "text": [
            "Real:  [35.4 20.9 48.3 23.7 36.4 24.5 46.  14.9 23.2 18.5]\n",
            "Predictions:  [31.34585036 21.50355361 38.00922935  9.09167528 33.31322608 27.7691639\n",
            " 41.11558872 15.08296903 22.15492366 19.7469332 ]\n"
          ]
        }
      ]
    },
    {
      "cell_type": "code",
      "source": [
        "print(l_reg.score(X_test , y_test))"
      ],
      "metadata": {
        "colab": {
          "base_uri": "https://localhost:8080/"
        },
        "id": "uykX8bA6MgAD",
        "outputId": "9b5a1cb8-5149-42b2-b602-0378411c0870"
      },
      "execution_count": null,
      "outputs": [
        {
          "output_type": "stream",
          "name": "stdout",
          "text": [
            "0.737801933565702\n"
          ]
        }
      ]
    },
    {
      "cell_type": "code",
      "source": [
        ""
      ],
      "metadata": {
        "id": "eo17qcpRNHvI"
      },
      "execution_count": null,
      "outputs": []
    }
  ]
}